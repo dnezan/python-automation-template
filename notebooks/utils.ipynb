{
 "cells": [
  {
   "cell_type": "markdown",
   "id": "3e919fb3",
   "metadata": {},
   "source": [
    "### Cookie Management in Selenium"
   ]
  },
  {
   "cell_type": "code",
   "execution_count": null,
   "id": "9c058d89",
   "metadata": {},
   "outputs": [],
   "source": [
    "## CODE TO LOAD ALL COOKIES\n",
    "with io.open(\"cookie_edited.txt\", \"r\") as f:\n",
    "    cookies = []\n",
    "    for line in f:\n",
    "        pair = line.strip().split(\"=\")\n",
    "        cookies.append({\"name\": pair[0], \"value\": pair[1]})\n",
    "\n",
    "for cookie in cookies:\n",
    "    driver.add_cookie(cookie)\n",
    "\n",
    "## CODE TO SAVE ALL COOKIES\n",
    "cookies = driver.get_cookies()\n",
    "\n",
    "with open(\"cookies.txt\", \"w\") as f:\n",
    "    for cookie in cookies:\n",
    "        f.write(f\"{cookie['name']}={cookie['value']}\\n\")\n",
    "        \n",
    "pickle.dump(driver.get_cookies(), open(\"cookies.pkl\", \"wb\"))\n",
    "        \n",
    "print(\"hi\")"
   ]
  },
  {
   "cell_type": "markdown",
   "id": "05ce82c6",
   "metadata": {
    "scrolled": true
   },
   "source": [
    "### Encryption"
   ]
  },
  {
   "cell_type": "code",
   "execution_count": 1,
   "id": "63dc24fc",
   "metadata": {
    "scrolled": true
   },
   "outputs": [
    {
     "name": "stdout",
     "output_type": "stream",
     "text": [
      "b'--2SSWrb3CEJglifeUdKJhjSWIABHvxhRsktmB8YyME='\n"
     ]
    }
   ],
   "source": [
    "#### DO NOT RUN THIS CODE OR YOU WILL HAVE TO REPLACE ALL THE ENCRYPTED VALUES ####\n",
    "\n",
    "## Generate key\n",
    "from cryptography.fernet import Fernet\n",
    "\n",
    "def generate_key():\n",
    "    key = Fernet.generate_key()\n",
    "    with open(\"secret.key\", \"wb\") as key_file:\n",
    "        key_file.write(key)\n",
    "        print(key)\n",
    "        \n",
    "if __name__ == \"__main__\":\n",
    "    generate_key()"
   ]
  },
  {
   "cell_type": "code",
   "execution_count": 2,
   "id": "261bcfd9",
   "metadata": {},
   "outputs": [
    {
     "name": "stdout",
     "output_type": "stream",
     "text": [
      "b'gAAAAABlFafGmCfq3uuq7vDmp9SEUCTP4MnfmXClfKg-VGbuSSBw_uE_arsHY_0n28kQX0rdr5OJs5XVoQbKRLHMojfgfIHhdw=='\n"
     ]
    }
   ],
   "source": [
    "def load_key():\n",
    "    return open(\"secret.key\", \"rb\").read()\n",
    "\n",
    "## Encrypt message\n",
    "def encrypt_message(message):\n",
    "    key = load_key()\n",
    "    encoded_message = message.encode()\n",
    "    f = Fernet(key)\n",
    "    encrypted_message = f.encrypt(encoded_message)\n",
    "\n",
    "    print(encrypted_message)\n",
    "\n",
    "if __name__ == \"__main__\":\n",
    "    encrypt_message(\"password here\")"
   ]
  },
  {
   "cell_type": "code",
   "execution_count": 3,
   "id": "7bfa8387",
   "metadata": {
    "scrolled": true
   },
   "outputs": [
    {
     "name": "stdout",
     "output_type": "stream",
     "text": [
      "password here\n"
     ]
    }
   ],
   "source": [
    "from cryptography.fernet import Fernet\n",
    "\n",
    "def load_key():\n",
    "    return open(\"secret.key\", \"rb\").read()\n",
    "\n",
    "def decrypt_message(encrypted_message):\n",
    "    key = load_key()\n",
    "    f = Fernet(key)\n",
    "    decrypted_message = f.decrypt(encrypted_message)\n",
    "\n",
    "    print(decrypted_message.decode())\n",
    "\n",
    "if __name__ == \"__main__\":\n",
    "    decrypt_message(b'gAAAAABlFafGmCfq3uuq7vDmp9SEUCTP4MnfmXClfKg-VGbuSSBw_uE_arsHY_0n28kQX0rdr5OJs5XVoQbKRLHMojfgfIHhdw==')           "
   ]
  },
  {
   "cell_type": "markdown",
   "id": "7b02eb62",
   "metadata": {},
   "source": [
    "### Misc"
   ]
  },
  {
   "cell_type": "code",
   "execution_count": null,
   "id": "df93584a",
   "metadata": {},
   "outputs": [],
   "source": []
  }
 ],
 "metadata": {
  "kernelspec": {
   "display_name": "Python 3 (ipykernel)",
   "language": "python",
   "name": "python3"
  },
  "language_info": {
   "codemirror_mode": {
    "name": "ipython",
    "version": 3
   },
   "file_extension": ".py",
   "mimetype": "text/x-python",
   "name": "python",
   "nbconvert_exporter": "python",
   "pygments_lexer": "ipython3",
   "version": "3.9.16"
  }
 },
 "nbformat": 4,
 "nbformat_minor": 5
}
